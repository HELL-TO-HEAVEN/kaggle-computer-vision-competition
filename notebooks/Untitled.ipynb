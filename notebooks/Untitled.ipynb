{
 "cells": [
  {
   "cell_type": "code",
   "execution_count": null,
   "metadata": {},
   "outputs": [],
   "source": [
    "import torch\n",
    "from torchvision import models"
   ]
  },
  {
   "cell_type": "code",
   "execution_count": null,
   "metadata": {},
   "outputs": [],
   "source": [
    "backbone = models.resnet50(pretrained=False)"
   ]
  },
  {
   "cell_type": "code",
   "execution_count": null,
   "metadata": {},
   "outputs": [],
   "source": [
    "out = backbone.features(inputs)"
   ]
  },
  {
   "cell_type": "code",
   "execution_count": null,
   "metadata": {},
   "outputs": [],
   "source": [
    "inputs = torch.rand(1, 3, 224,224)"
   ]
  },
  {
   "cell_type": "code",
   "execution_count": null,
   "metadata": {},
   "outputs": [],
   "source": [
    "out.shape"
   ]
  },
  {
   "cell_type": "code",
   "execution_count": null,
   "metadata": {},
   "outputs": [],
   "source": [
    "import torch\n",
    "model = torch.hub.load('pytorch/vision:v0.5.0', 'mobilenet_v2', pretrained=False)\n",
    "model.eval()\n"
   ]
  },
  {
   "cell_type": "code",
   "execution_count": null,
   "metadata": {},
   "outputs": [],
   "source": [
    "model.features(inputs).shape"
   ]
  },
  {
   "cell_type": "code",
   "execution_count": null,
   "metadata": {},
   "outputs": [],
   "source": [
    "\n",
    "backbone(inputs)"
   ]
  },
  {
   "cell_type": "code",
   "execution_count": 2,
   "metadata": {},
   "outputs": [],
   "source": [
    "import sys\n",
    "sys.path.append('../')"
   ]
  },
  {
   "cell_type": "code",
   "execution_count": 3,
   "metadata": {},
   "outputs": [],
   "source": [
    "from src.tools.registry import Registry"
   ]
  },
  {
   "cell_type": "code",
   "execution_count": 5,
   "metadata": {},
   "outputs": [],
   "source": [
    "BACKBONE_REGISTRY = Registry()\n"
   ]
  },
  {
   "cell_type": "code",
   "execution_count": 9,
   "metadata": {},
   "outputs": [],
   "source": [
    "import os"
   ]
  },
  {
   "cell_type": "code",
   "execution_count": 11,
   "metadata": {},
   "outputs": [],
   "source": [
    "os.getenv('TORCH_HOME')"
   ]
  },
  {
   "cell_type": "code",
   "execution_count": 8,
   "metadata": {},
   "outputs": [
    {
     "data": {
      "text/plain": [
       "<function __main__.test>"
      ]
     },
     "execution_count": 8,
     "metadata": {},
     "output_type": "execute_result"
    }
   ],
   "source": [
    "BACKBONE_REGISTRY['a']"
   ]
  },
  {
   "cell_type": "code",
   "execution_count": 6,
   "metadata": {},
   "outputs": [],
   "source": [
    "@BACKBONE_REGISTRY.register('a')\n",
    "def test(x):\n",
    "    return x"
   ]
  },
  {
   "cell_type": "code",
   "execution_count": null,
   "metadata": {},
   "outputs": [],
   "source": [
    "BACKBONE_REGISTRY._obj_map"
   ]
  },
  {
   "cell_type": "code",
   "execution_count": null,
   "metadata": {},
   "outputs": [],
   "source": [
    "@BACKBONE_REGISTRY.register()\n",
    "def build_resnet_backbone(cfg, input_shape):\n",
    "    \"\"\"\n",
    "    Create a ResNet instance from config.\n",
    "\n",
    "    Returns:\n",
    "        ResNet: a :class:`ResNet` instance.\n",
    "    \"\"\"\n",
    "    # need registration of new blocks/stems?\n",
    "    norm = cfg.MODEL.RESNETS.NORM\n",
    "    stem = BasicStem(\n",
    "        in_channels=input_shape.channels,\n",
    "        out_channels=cfg.MODEL.RESNETS.STEM_OUT_CHANNELS,\n",
    "        norm=norm,\n",
    "    )\n",
    "    freeze_at = cfg.MODEL.BACKBONE.FREEZE_AT\n",
    "\n",
    "    if freeze_at >= 1:\n",
    "        for p in stem.parameters():\n",
    "            p.requires_grad = False\n",
    "        stem = FrozenBatchNorm2d.convert_frozen_batchnorm(stem)\n",
    "\n",
    "    # fmt: off\n",
    "    out_features        = cfg.MODEL.RESNETS.OUT_FEATURES\n",
    "    depth               = cfg.MODEL.RESNETS.DEPTH\n",
    "    num_groups          = cfg.MODEL.RESNETS.NUM_GROUPS\n",
    "    width_per_group     = cfg.MODEL.RESNETS.WIDTH_PER_GROUP\n",
    "    bottleneck_channels = num_groups * width_per_group\n",
    "    in_channels         = cfg.MODEL.RESNETS.STEM_OUT_CHANNELS\n",
    "    out_channels        = cfg.MODEL.RESNETS.RES2_OUT_CHANNELS\n",
    "    stride_in_1x1       = cfg.MODEL.RESNETS.STRIDE_IN_1X1\n",
    "    res5_dilation       = cfg.MODEL.RESNETS.RES5_DILATION\n",
    "    deform_on_per_stage = cfg.MODEL.RESNETS.DEFORM_ON_PER_STAGE\n",
    "    deform_modulated    = cfg.MODEL.RESNETS.DEFORM_MODULATED\n",
    "    deform_num_groups   = cfg.MODEL.RESNETS.DEFORM_NUM_GROUPS\n",
    "    # fmt: on\n",
    "    assert res5_dilation in {1, 2}, \"res5_dilation cannot be {}.\".format(res5_dilation)\n",
    "\n",
    "    num_blocks_per_stage = {50: [3, 4, 6, 3], 101: [3, 4, 23, 3], 152: [3, 8, 36, 3]}[depth]\n",
    "\n",
    "    stages = []\n",
    "\n",
    "    # Avoid creating variables without gradients\n",
    "    # It consumes extra memory and may cause allreduce to fail\n",
    "    out_stage_idx = [{\"res2\": 2, \"res3\": 3, \"res4\": 4, \"res5\": 5}[f] for f in out_features]\n",
    "    max_stage_idx = max(out_stage_idx)\n",
    "    for idx, stage_idx in enumerate(range(2, max_stage_idx + 1)):\n",
    "        dilation = res5_dilation if stage_idx == 5 else 1\n",
    "        first_stride = 1 if idx == 0 or (stage_idx == 5 and dilation == 2) else 2\n",
    "        stage_kargs = {\n",
    "            \"num_blocks\": num_blocks_per_stage[idx],\n",
    "            \"first_stride\": first_stride,\n",
    "            \"in_channels\": in_channels,\n",
    "            \"bottleneck_channels\": bottleneck_channels,\n",
    "            \"out_channels\": out_channels,\n",
    "            \"num_groups\": num_groups,\n",
    "            \"norm\": norm,\n",
    "            \"stride_in_1x1\": stride_in_1x1,\n",
    "            \"dilation\": dilation,\n",
    "        }\n",
    "        if deform_on_per_stage[idx]:\n",
    "            stage_kargs[\"block_class\"] = DeformBottleneckBlock\n",
    "            stage_kargs[\"deform_modulated\"] = deform_modulated\n",
    "            stage_kargs[\"deform_num_groups\"] = deform_num_groups\n",
    "        else:\n",
    "            stage_kargs[\"block_class\"] = BottleneckBlock\n",
    "        blocks = make_stage(**stage_kargs)\n",
    "        in_channels = out_channels\n",
    "        out_channels *= 2\n",
    "        bottleneck_channels *= 2\n",
    "\n",
    "        if freeze_at >= stage_idx:\n",
    "            for block in blocks:\n",
    "                block.freeze()\n",
    "        stages.append(blocks)\n",
    "    return ResNet(stem, stages, out_features=out_features)"
   ]
  },
  {
   "cell_type": "code",
   "execution_count": null,
   "metadata": {},
   "outputs": [],
   "source": []
  }
 ],
 "metadata": {
  "kernelspec": {
   "display_name": "Python [conda env:idp] *",
   "language": "python",
   "name": "conda-env-idp-py"
  },
  "language_info": {
   "codemirror_mode": {
    "name": "ipython",
    "version": 3
   },
   "file_extension": ".py",
   "mimetype": "text/x-python",
   "name": "python",
   "nbconvert_exporter": "python",
   "pygments_lexer": "ipython3",
   "version": "3.7.4"
  }
 },
 "nbformat": 4,
 "nbformat_minor": 2
}
