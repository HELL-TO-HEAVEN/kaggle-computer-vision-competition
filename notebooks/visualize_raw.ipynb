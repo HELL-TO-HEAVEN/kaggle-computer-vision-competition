{
 "cells": [
  {
   "cell_type": "code",
   "execution_count": null,
   "metadata": {},
   "outputs": [],
   "source": [
    "import pickle\n",
    "from pathlib import Path\n",
    "from PIL import Image\n",
    "import numpy as np\n",
    "# Notebook widget for interactive exploration\n",
    "import ipywidgets as widgets\n",
    "from ipywidgets import interact, interact_manual\n",
    "import matplotlib.pyplot as plt\n",
    "from matplotlib.pyplot import imshow\n",
    "import cv2 as cv\n",
    "from IPython.core.display import display, HTML\n",
    "display(HTML(\"<style>.container { width:100% !important; }</style>\"))"
   ]
  },
  {
   "cell_type": "code",
   "execution_count": null,
   "metadata": {},
   "outputs": [],
   "source": [
    "from dotenv import load_dotenv, find_dotenv\n",
    "\n",
    "# Load the .ENV path. \n",
    "load_dotenv(find_dotenv())\n",
    "\n",
    "# Get Env variable on the pathing. \n",
    "import os\n",
    "PATH_DATA_INTERIM=os.getenv(\"PATH_DATA_INTERIM\")\n",
    "PATH_DATA_RAW=os.getenv(\"PATH_DATA_RAW\")"
   ]
  },
  {
   "cell_type": "code",
   "execution_count": null,
   "metadata": {},
   "outputs": [],
   "source": [
    "import pickle\n",
    "from pathlib import Path\n",
    "\n",
    "# Load the labeling data for decoding purpose\n",
    "import pandas as pd\n",
    "grapheme_train = pd.read_csv(Path(PATH_DATA_RAW) / \"train.csv\")\n",
    "grapheme_train\n",
    "\n",
    "# Load the data, ~5GB\n",
    "with open(Path(PATH_DATA_INTERIM) / \"train_data.p\", 'rb') as pickle_file:\n",
    "    data_train = pickle.load(pickle_file)\n",
    "\n",
    "# Load the validation data, about 1.3GB\n",
    "with open(Path(PATH_DATA_INTERIM) / \"val_data.p\", 'rb') as pickle_file:\n",
    "    data_val = pickle.load(pickle_file)"
   ]
  },
  {
   "cell_type": "code",
   "execution_count": null,
   "metadata": {},
   "outputs": [],
   "source": [
    "data_train"
   ]
  },
  {
   "cell_type": "code",
   "execution_count": null,
   "metadata": {},
   "outputs": [],
   "source": [
    "# Check its length\n",
    "len(data_train)"
   ]
  },
  {
   "cell_type": "code",
   "execution_count": null,
   "metadata": {},
   "outputs": [],
   "source": [
    "type(data_train[0])"
   ]
  },
  {
   "cell_type": "code",
   "execution_count": null,
   "metadata": {},
   "outputs": [],
   "source": [
    "# Check a tuple\n",
    "data_train[0]"
   ]
  },
  {
   "cell_type": "code",
   "execution_count": null,
   "metadata": {},
   "outputs": [],
   "source": [
    "# Check its inside tuple\n",
    "data_train[0][0]"
   ]
  },
  {
   "cell_type": "code",
   "execution_count": null,
   "metadata": {},
   "outputs": [],
   "source": [
    "# Check its shape\n",
    "data_train[0][0].shape"
   ]
  },
  {
   "cell_type": "code",
   "execution_count": null,
   "metadata": {},
   "outputs": [],
   "source": [
    "# Check its classification\n",
    "data_train[0][1]"
   ]
  },
  {
   "cell_type": "code",
   "execution_count": null,
   "metadata": {},
   "outputs": [],
   "source": [
    "# Dual showing the images: training on the left and validation on the right. \n",
    "@interact\n",
    "def show_image(index_train=(0,len(data_train)-1,1), index_val=(0,len(data_val)-1,1)):\n",
    "    \n",
    "    # Load the training image index    \n",
    "    img_train = Image.fromarray(data_train[index_train][0], \"L\")\n",
    "    \n",
    "    # Load the validation image index\n",
    "    img_val = Image.fromarray(data_train[index_val][0], \"L\")\n",
    "\n",
    "    # Compose into the composite array laytout\n",
    "    f, axarr = plt.subplots(1,2)\n",
    "    axarr[0].imshow(img_train, cmap='gray')\n",
    "    axarr[0].set_title(\"Training Set\")\n",
    "    axarr[1].imshow(img_val, cmap='gray')    \n",
    "    axarr[1].set_title(\"Validation Set\")\n",
    "    f.set_size_inches(18.5, 10.5)\n",
    "    f.suptitle(\"Raw Grapheme Images\", fontsize=40)\n",
    "    \n",
    "    # Get the classification from the label\n",
    "    a, b, c = tuple(data_train[index_train][1])\n",
    "    # Look up the entries that have the same classifications.     \n",
    "    d = grapheme_train[grapheme_train.grapheme_root.eq(a) & grapheme_train.vowel_diacritic.eq(b) & grapheme_train.consonant_diacritic.eq(c)] \n",
    "    # Show the first one and its grapheme (since they all should have the same grapheme)\n",
    "    from IPython.display import display, Markdown\n",
    "    display(Markdown('<h1>{}</h1>'.format(f\"Character{d.iloc[0].grapheme}\")))\n",
    "    #print(f\"Character{d.iloc[0].grapheme}\")\n",
    "    "
   ]
  },
  {
   "cell_type": "code",
   "execution_count": null,
   "metadata": {},
   "outputs": [],
   "source": []
  }
 ],
 "metadata": {
  "kernelspec": {
   "display_name": "Python 3",
   "language": "python",
   "name": "python3"
  },
  "language_info": {
   "codemirror_mode": {
    "name": "ipython",
    "version": 3
   },
   "file_extension": ".py",
   "mimetype": "text/x-python",
   "name": "python",
   "nbconvert_exporter": "python",
   "pygments_lexer": "ipython3",
   "version": "3.7.6"
  }
 },
 "nbformat": 4,
 "nbformat_minor": 2
}
