{
 "cells": [
  {
   "cell_type": "code",
   "execution_count": 3,
   "metadata": {},
   "outputs": [],
   "source": [
    "import os\n",
    "import numpy as np \n",
    "import pickle \n",
    "from sklearn.utils.class_weight import compute_class_weight"
   ]
  },
  {
   "cell_type": "code",
   "execution_count": 4,
   "metadata": {},
   "outputs": [],
   "source": [
    "ROOT_PATH = 'C:/Users/mingy/Documents/ml_data/bengali'"
   ]
  },
  {
   "cell_type": "code",
   "execution_count": 6,
   "metadata": {},
   "outputs": [],
   "source": [
    "all_data = pickle.load(open(os.path.join(ROOT_PATH, 'all_data.p'),'rb'))"
   ]
  },
  {
   "cell_type": "code",
   "execution_count": 7,
   "metadata": {},
   "outputs": [],
   "source": [
    "labels = np.array([x[1] for x in all_data])"
   ]
  },
  {
   "cell_type": "code",
   "execution_count": 8,
   "metadata": {},
   "outputs": [],
   "source": [
    "grapheme_labels =labels[:, 0]\n",
    "vowel_labels =labels[:, 1]\n",
    "consonant_labels =labels[:, 2]"
   ]
  },
  {
   "cell_type": "code",
   "execution_count": 9,
   "metadata": {},
   "outputs": [
    {
     "data": {
      "text/plain": [
       "array([0.5       , 3.        , 1.22273295, 3.        , 1.34891531,\n",
       "       1.34090894, 3.        ])"
      ]
     },
     "execution_count": 9,
     "metadata": {},
     "output_type": "execute_result"
    }
   ],
   "source": [
    "consonant_weights = np.clip(compute_class_weight('balanced', list(range(np.max(consonant_labels)+1)), consonant_labels), 0.5, 3)\n",
    "consonant_weights"
   ]
  },
  {
   "cell_type": "code",
   "execution_count": 10,
   "metadata": {},
   "outputs": [
    {
     "data": {
      "text/plain": [
       "array([0.5       , 0.5       , 0.7031302 , 1.13039759, 0.96870659,\n",
       "       3.        , 3.        , 0.63566417, 3.        , 1.13885865,\n",
       "       3.        ])"
      ]
     },
     "execution_count": 10,
     "metadata": {},
     "output_type": "execute_result"
    }
   ],
   "source": [
    "vowel_weights = np.clip(compute_class_weight('balanced', list(range(np.max(vowel_labels)+1)), vowel_labels), 0.5, 3)\n",
    "vowel_weights"
   ]
  },
  {
   "cell_type": "code",
   "execution_count": 11,
   "metadata": {},
   "outputs": [
    {
     "data": {
      "text/plain": [
       "array([3.        , 3.        , 3.        , 3.        , 3.        ,\n",
       "       3.        , 3.        , 3.        , 3.        , 2.69251394,\n",
       "       3.        , 3.        , 3.        , 0.5       , 1.50185451,\n",
       "       1.10385613, 1.27178318, 1.57092798, 0.7320736 , 3.        ,\n",
       "       3.        , 1.269083  , 0.5       , 0.5       , 3.        ,\n",
       "       1.06075971, 3.        , 3.        , 1.57506744, 0.5       ,\n",
       "       2.73564346, 1.55660962, 1.06075971, 3.        , 3.        ,\n",
       "       2.5115046 , 1.16745722, 3.        , 0.5       , 1.93756271,\n",
       "       1.57922879, 3.        , 0.61087184, 0.5       , 1.13100869,\n",
       "       3.        , 2.06116585, 2.64485883, 0.86880537, 3.        ,\n",
       "       1.61988644, 3.        , 1.27858416, 0.5       , 2.01938546,\n",
       "       0.71159297, 0.5       , 1.88858798, 0.93033167, 0.51110568,\n",
       "       2.80628214, 2.07908903, 1.37727672, 3.        , 0.5       ,\n",
       "       0.87580673, 1.52096207, 2.51679198, 1.89457399, 1.57922879,\n",
       "       1.24919142, 0.5       , 0.5       , 3.        , 0.78753372,\n",
       "       1.06075971, 0.61749803, 1.24919142, 3.        , 0.5       ,\n",
       "       2.62165831, 0.5       , 3.        , 0.84307207, 2.59886128,\n",
       "       0.87709185, 0.57090554, 3.        , 1.57299499, 0.51685093,\n",
       "       1.90666059, 0.77678765, 1.07121522, 1.92198744, 1.22864973,\n",
       "       1.64439641, 0.5       , 2.48539749, 1.90666059, 2.61021002,\n",
       "       2.66847364, 1.10385613, 3.        , 0.5       , 3.        ,\n",
       "       3.        , 1.59184579, 0.5       , 3.        , 1.31660373,\n",
       "       3.        , 1.51902947, 1.34929593, 0.5       , 3.        ,\n",
       "       0.5       , 2.74191787, 0.78084663, 1.04958401, 0.77779843,\n",
       "       0.99045252, 2.5876108 , 0.51685093, 0.57668895, 0.54637851,\n",
       "       1.47045042, 3.        , 1.28961833, 1.2557523 , 1.22236829,\n",
       "       3.        , 2.69859185, 1.15060269, 0.5       , 1.91890239,\n",
       "       1.87672871, 1.13746545, 2.12718183, 1.27995309, 0.51707448,\n",
       "       1.35388017, 0.68469427, 1.1204088 , 1.96301509, 1.95339247,\n",
       "       3.        , 3.        , 0.5       , 0.69383412, 0.5       ,\n",
       "       0.51729822, 0.95791361, 1.96948302, 0.76978506, 1.63316419,\n",
       "       1.28822865, 1.513261  , 3.        , 3.        , 0.5       ,\n",
       "       2.4905754 , 3.        , 2.57091654, 3.        , 3.        ,\n",
       "       1.04682679, 3.        , 0.75424365])"
      ]
     },
     "execution_count": 11,
     "metadata": {},
     "output_type": "execute_result"
    }
   ],
   "source": [
    "grapheme_weights = np.clip(compute_class_weight('balanced', list(range(np.max(grapheme_labels)+1)), grapheme_labels), 0.5, 3)\n",
    "grapheme_weights"
   ]
  },
  {
   "cell_type": "code",
   "execution_count": 16,
   "metadata": {},
   "outputs": [],
   "source": [
    "weights  = {\n",
    "    'grapheme': grapheme_weights,\n",
    "    'vowel': vowel_weights,\n",
    "    'consonant': consonant_weights\n",
    "}"
   ]
  },
  {
   "cell_type": "code",
   "execution_count": 17,
   "metadata": {},
   "outputs": [],
   "source": [
    "pickle.dump(weights, open(os.path.join(ROOT_PATH, 'labels_weights.p'),'wb'))"
   ]
  },
  {
   "cell_type": "code",
   "execution_count": 15,
   "metadata": {},
   "outputs": [
    {
     "data": {
      "text/plain": [
       "'C:/Users/mingy/Documents/ml_data/bengali\\\\labels_weights.p'"
      ]
     },
     "execution_count": 15,
     "metadata": {},
     "output_type": "execute_result"
    }
   ],
   "source": [
    "os.path.join(ROOT_PATH, 'labels_weights.p')"
   ]
  },
  {
   "cell_type": "code",
   "execution_count": null,
   "metadata": {},
   "outputs": [],
   "source": []
  }
 ],
 "metadata": {
  "kernelspec": {
   "display_name": "Python [conda env:idp] *",
   "language": "python",
   "name": "conda-env-idp-py"
  },
  "language_info": {
   "codemirror_mode": {
    "name": "ipython",
    "version": 3
   },
   "file_extension": ".py",
   "mimetype": "text/x-python",
   "name": "python",
   "nbconvert_exporter": "python",
   "pygments_lexer": "ipython3",
   "version": "3.7.4"
  }
 },
 "nbformat": 4,
 "nbformat_minor": 2
}
