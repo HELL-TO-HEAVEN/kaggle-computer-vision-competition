{
 "cells": [
  {
   "cell_type": "code",
   "execution_count": 1,
   "metadata": {
    "ExecuteTime": {
     "end_time": "2020-02-21T19:49:25.146623Z",
     "start_time": "2020-02-21T19:49:25.113578Z"
    }
   },
   "outputs": [],
   "source": [
    "%load_ext autoreload\n",
    "%autoreload 2"
   ]
  },
  {
   "cell_type": "code",
   "execution_count": 2,
   "metadata": {
    "ExecuteTime": {
     "end_time": "2020-02-21T19:49:26.087515Z",
     "start_time": "2020-02-21T19:49:25.593721Z"
    }
   },
   "outputs": [],
   "source": [
    "import numpy as np\n",
    "import os\n",
    "import sys \n",
    "import pickle\n",
    "\n",
    "sys.path.append('../')\n",
    "import torch\n",
    "from src.config.config import cfg"
   ]
  },
  {
   "cell_type": "code",
   "execution_count": 3,
   "metadata": {
    "ExecuteTime": {
     "end_time": "2020-02-21T19:49:26.969091Z",
     "start_time": "2020-02-21T19:49:26.088429Z"
    }
   },
   "outputs": [
    {
     "name": "stderr",
     "output_type": "stream",
     "text": [
      "C:\\Users\\nasty\\Anaconda3\\envs\\bengaliai\\lib\\site-packages\\sklearn\\utils\\deprecation.py:144: FutureWarning: The sklearn.metrics.classification module is  deprecated in version 0.22 and will be removed in version 0.24. The corresponding classes / functions should instead be imported from sklearn.metrics. Anything that cannot be imported from sklearn.metrics is now part of the private API.\n",
      "  warnings.warn(message, FutureWarning)\n"
     ]
    }
   ],
   "source": [
    "from src.tools.train import train"
   ]
  },
  {
   "cell_type": "code",
   "execution_count": null,
   "metadata": {
    "ExecuteTime": {
     "start_time": "2020-02-21T19:49:25.915Z"
    }
   },
   "outputs": [
    {
     "name": "stdout",
     "output_type": "stream",
     "text": [
      "Start epoch 0\n",
      "0 13.735525131225586 0.0625\n",
      "100 13.042277336120605 0.1354166716337204\n",
      "200 9.954415321350098 0.1354166716337204\n",
      "300 8.613558769226074 0.1666666716337204\n",
      "400 9.354390144348145 0.21875\n",
      "500 7.646975040435791 0.2708333432674408\n",
      "600 7.496456146240234 0.3854166865348816\n",
      "700 8.603224754333496 0.3229166865348816\n",
      "800 7.650930404663086 0.34375\n",
      "900 8.115615844726562 0.4166666865348816\n",
      "1000 11.186427116394043 0.3229166865348816\n",
      "1100 6.5985612869262695 0.53125\n",
      "1200 7.611185073852539 0.4479166865348816\n"
     ]
    },
    {
     "name": "stderr",
     "output_type": "stream",
     "text": [
      "C:\\Users\\nasty\\Anaconda3\\envs\\bengaliai\\lib\\site-packages\\sklearn\\metrics\\_classification.py:1272: UndefinedMetricWarning: Precision and F-score are ill-defined and being set to 0.0 in labels with no predicted samples. Use `zero_division` parameter to control this behavior.\n",
      "  _warn_prf(average, modifier, msg_start, len(result))\n"
     ]
    },
    {
     "name": "stdout",
     "output_type": "stream",
     "text": [
      "Epoch 0 Training, Loss 8.912570430937992, Acc 0.3244688003780357, kaggle Score 0.3133453493067836\n",
      "Epoch 0 Eval, Loss 6.965251771887397, Acc 0.45985935300968256, Kaggle score 0.44688735091487664\n",
      "Saving the model (epoch 0)\n",
      "Making a backup (step 0)\n",
      "Start epoch 1\n",
      "0 6.397049903869629 0.4895833432674408\n"
     ]
    }
   ],
   "source": [
    "train(cfg, debug=True)"
   ]
  },
  {
   "cell_type": "code",
   "execution_count": null,
   "metadata": {},
   "outputs": [],
   "source": []
  }
 ],
 "metadata": {
  "kernelspec": {
   "display_name": "Conda: Bengaliai",
   "language": "python",
   "name": "bengaliai"
  },
  "language_info": {
   "codemirror_mode": {
    "name": "ipython",
    "version": 3
   },
   "file_extension": ".py",
   "mimetype": "text/x-python",
   "name": "python",
   "nbconvert_exporter": "python",
   "pygments_lexer": "ipython3",
   "version": "3.8.1"
  },
  "toc": {
   "base_numbering": 1,
   "nav_menu": {},
   "number_sections": true,
   "sideBar": true,
   "skip_h1_title": false,
   "title_cell": "Table of Contents",
   "title_sidebar": "Contents",
   "toc_cell": false,
   "toc_position": {},
   "toc_section_display": true,
   "toc_window_display": false
  }
 },
 "nbformat": 4,
 "nbformat_minor": 4
}
