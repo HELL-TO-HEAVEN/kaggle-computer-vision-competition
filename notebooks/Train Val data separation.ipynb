{
 "cells": [
  {
   "cell_type": "markdown",
   "metadata": {},
   "source": [
    "16G RAM required to run this "
   ]
  },
  {
   "cell_type": "code",
   "execution_count": null,
   "metadata": {},
   "outputs": [],
   "source": [
    "import os \n",
    "import pickle\n",
    "import random\n",
    "import numpy as np \n",
    "import pandas as pd"
   ]
  },
  {
   "cell_type": "code",
   "execution_count": null,
   "metadata": {},
   "outputs": [],
   "source": [
    "ROOT_FOLDER = 'C:/Users/mingy/Documents/ml_data/bengali'\n",
    "TRAIN_PARQUET_FORM = 'train_image_data_ID.parquet'\n",
    "TEST_PARQUET_FORM = 'test_image_data_ID.parquet'\n",
    "LABEL_PATH = 'train.csv'\n",
    "\n",
    "DEFAULT_H, DEFAULT_W = 137, 236\n"
   ]
  },
  {
   "cell_type": "code",
   "execution_count": null,
   "metadata": {
    "scrolled": true
   },
   "outputs": [],
   "source": [
    "def load_images(train_test):\n",
    "    path_form = {\n",
    "        'train': TRAIN_PARQUET_FORM,\n",
    "        'test': TEST_PARQUET_FORM\n",
    "    }[train_test]\n",
    "    imgs_list = []\n",
    "    for id in ['0','1','2','3']:\n",
    "        path = os.path.join(ROOT_FOLDER, path_form.replace('ID', id))\n",
    "        print('Loading', path)\n",
    "        df = pd.read_parquet(path)\n",
    "        imgs = df.iloc[:, 1:].to_numpy()\n",
    "        imgs_list.append(imgs)\n",
    "        \n",
    "    imgs_list = np.concatenate(imgs_list)\n",
    "    imgs_list = imgs_list.reshape(-1, DEFAULT_H, DEFAULT_W)\n",
    "    \n",
    "    return imgs_list "
   ]
  },
  {
   "cell_type": "code",
   "execution_count": null,
   "metadata": {},
   "outputs": [],
   "source": [
    "imgs = load_images('train')"
   ]
  },
  {
   "cell_type": "code",
   "execution_count": null,
   "metadata": {},
   "outputs": [],
   "source": [
    "labels = pd.read_csv(os.path.join(ROOT_FOLDER, LABEL_PATH))\n",
    "labels = labels.iloc[:,1:4].to_numpy()\n",
    "all_data = list(zip(imgs, labels))"
   ]
  },
  {
   "cell_type": "code",
   "execution_count": null,
   "metadata": {},
   "outputs": [],
   "source": [
    "pickle.dump(all_data, open(os.path.join(ROOT_FOLDER, 'all_data.p'),'wb'))"
   ]
  },
  {
   "cell_type": "code",
   "execution_count": null,
   "metadata": {},
   "outputs": [],
   "source": [
    "_ = random.shuffle(all_data)"
   ]
  },
  {
   "cell_type": "code",
   "execution_count": null,
   "metadata": {},
   "outputs": [],
   "source": [
    "data_size = len(all_data)\n",
    "train_size = int(data_size *0.8)\n",
    "train_data = all_data[:train_size]\n",
    "val_data = all_data[train_size:]"
   ]
  },
  {
   "cell_type": "code",
   "execution_count": null,
   "metadata": {},
   "outputs": [],
   "source": [
    "pickle.dump(train_data, open(os.path.join(ROOT_FOLDER, 'train_data.p'),'wb'))\n",
    "pickle.dump(val_data, open(os.path.join(ROOT_FOLDER, 'val_data.p'),'wb'))"
   ]
  }
 ],
 "metadata": {
  "kernelspec": {
   "display_name": "Python [conda env:idp] *",
   "language": "python",
   "name": "conda-env-idp-py"
  },
  "language_info": {
   "codemirror_mode": {
    "name": "ipython",
    "version": 3
   },
   "file_extension": ".py",
   "mimetype": "text/x-python",
   "name": "python",
   "nbconvert_exporter": "python",
   "pygments_lexer": "ipython3",
   "version": "3.7.4"
  },
  "pycharm": {
   "stem_cell": {
    "cell_type": "raw",
    "source": [],
    "metadata": {
     "collapsed": false
    }
   }
  }
 },
 "nbformat": 4,
 "nbformat_minor": 2
}