{
 "cells": [
  {
   "cell_type": "code",
   "execution_count": 1,
   "metadata": {},
   "outputs": [],
   "source": [
    "%load_ext autoreload\n",
    "%autoreload 2"
   ]
  },
  {
   "cell_type": "code",
   "execution_count": 1,
   "metadata": {},
   "outputs": [],
   "source": [
    "import numpy as np\n",
    "import os\n",
    "import sys \n",
    "import pickle\n",
    "from PIL import Image\n",
    "from cv2 import resize\n",
    "import time \n",
    "from matplotlib import pyplot as plt\n",
    "sys.path.append('../')\n",
    "import torch\n",
    "from src.config.config import cfg\n"
   ]
  },
  {
   "cell_type": "code",
   "execution_count": 4,
   "metadata": {},
   "outputs": [
    {
     "name": "stdout",
     "output_type": "stream",
     "text": [
      "DATASET:\n",
      "  AUGMENTATION:\n",
      "    BLURRING_PROB: 0.25\n",
      "    BRIGHTNESS_CONTRAST_PROB: 1\n",
      "    GAUSS_NOISE_PROB: 0.25\n",
      "    GRID_DISTORTION_PROB: 1\n",
      "    ROTATION_DEGREE: 20\n",
      "    ROTATION_PROB: 1\n",
      "  BATCH_SIZE: 32\n",
      "  CONCENTRATE_CROP: true\n",
      "  CONSONANT_SIZE: 7\n",
      "  CPU_NUM: 4\n",
      "  DEFAULT_SIZE:\n",
      "  - 137\n",
      "  - 236\n",
      "  GRAPHEME_SIZE: 168\n",
      "  NAME: bengali_kaggle\n",
      "  NORMALIZE_MEAN:\n",
      "  - 0.485\n",
      "  - 0.456\n",
      "  - 0.406\n",
      "  NORMALIZE_STD:\n",
      "  - 0.229\n",
      "  - 0.224\n",
      "  - 0.225\n",
      "  RESIZE_SHAPE:\n",
      "  - 128\n",
      "  - 128\n",
      "  TO_RGB: true\n",
      "  TRAIN_DATA_PATH: C:/Users/mingy/Documents/ml_data/bengali/train_data.p\n",
      "  VAL_DATA_PATH: C:/Users/mingy/Documents/ml_data/bengali/val_data.p\n",
      "  VOWEL_SIZE: 11\n",
      "MODEL:\n",
      "  BACKBONE:\n",
      "    NAME: mobilenet_v2\n",
      "    PRETRAINED_PATH: C:\\Users\\mingy\\Documents\\ml_data\\torchvision_models\\mobilenet_v2-b0353104.pth\n",
      "  HEAD:\n",
      "    ACTIVATION: leaky_relu\n",
      "    BN: true\n",
      "    DROPOUT: -1\n",
      "    HIDDEN_DIMS:\n",
      "    - 512\n",
      "    - 256\n",
      "    INPUT_DIM: 1280\n",
      "    NAME: simple_head\n",
      "    OUTPUT_DIMS:\n",
      "    - 168\n",
      "    - 11\n",
      "    - 7\n",
      "  META_ARCHITECTURE: baseline\n",
      "  NORMALIZATION_FN: BN\n",
      "  SOLVER:\n",
      "    BASE_LR: 0.001\n",
      "    LABELS_WEIGHTS_PATH: C:/Users/mingy/Documents/ml_data/bengali/labels_weights.p\n",
      "    LOSS_FN: xentropy\n",
      "    OPTIMIZER: adam\n",
      "    TOTAL_EPOCHS: 20\n",
      "OUTPUT_PATH: ''\n",
      "RESUME_PATH: ''\n",
      "\n"
     ]
    }
   ],
   "source": [
    "print(cfg.dump())"
   ]
  },
  {
   "cell_type": "code",
   "execution_count": 3,
   "metadata": {},
   "outputs": [],
   "source": [
    "from src.modeling.backbone.build import build_backbone, BACKBONE_REGISTRY"
   ]
  },
  {
   "cell_type": "code",
   "execution_count": 4,
   "metadata": {},
   "outputs": [],
   "source": [
    "from src.modeling.meta_arch.baseline import build_baseline_model"
   ]
  },
  {
   "cell_type": "code",
   "execution_count": 5,
   "metadata": {},
   "outputs": [],
   "source": [
    "model = build_baseline_model(cfg.MODEL)"
   ]
  },
  {
   "cell_type": "code",
   "execution_count": 13,
   "metadata": {},
   "outputs": [],
   "source": [
    "inputs = torch.rand(2,3,128,128)\n",
    "outputs = model(inputs)"
   ]
  },
  {
   "cell_type": "code",
   "execution_count": 14,
   "metadata": {},
   "outputs": [
    {
     "data": {
      "text/plain": [
       "(tensor([[-9.7168e-01,  9.8560e-01, -8.6536e-01, -3.0287e-01,  2.6184e-02,\n",
       "          -6.0276e-01, -8.7024e-02,  8.0207e-01,  2.4502e-01,  5.0794e-01,\n",
       "          -2.5741e-01,  6.1054e-01,  6.6566e-01,  2.6086e-02,  4.0600e-02,\n",
       "           5.3377e-01, -1.6802e-01, -1.8838e-01,  4.7771e-02,  4.0372e-01,\n",
       "           2.3712e-01, -2.2407e-01,  2.4543e-01, -5.4313e-01,  2.8054e-02,\n",
       "          -1.5938e-02, -2.4666e-01,  5.0846e-02, -1.3822e-04, -1.3586e-01,\n",
       "          -7.0968e-02, -3.1419e-01, -2.0329e-01, -7.1972e-01,  9.1809e-02,\n",
       "          -2.1459e-01, -9.9352e-01,  2.1234e-01,  1.8623e-01, -4.2481e-01,\n",
       "           1.5874e-01, -4.4641e-02, -3.5608e-01,  1.5475e-01, -4.5080e-01,\n",
       "           8.0441e-01,  1.0253e+00, -5.6798e-01, -7.1378e-01,  2.1013e-01,\n",
       "          -1.2199e-02, -3.4541e-01, -5.2596e-01, -4.8745e-01,  3.7996e-01,\n",
       "           5.7608e-01,  3.3907e-01,  1.6023e-01, -2.3356e-01, -2.2990e-01,\n",
       "           1.3671e-01, -8.7841e-01,  2.4987e-01,  5.8602e-02,  1.4138e-03,\n",
       "           1.0904e-01, -2.2130e-01,  5.3682e-02, -2.7617e-01, -4.6340e-01,\n",
       "          -4.8247e-01,  5.5111e-01,  2.4271e-01,  7.8631e-02,  3.5133e-01,\n",
       "          -2.4497e-01, -2.2662e-01, -6.4664e-01,  4.2224e-02, -1.8572e-01,\n",
       "          -5.0086e-01, -3.9509e-01, -3.3643e-01, -4.9095e-01,  3.9203e-01,\n",
       "           2.1572e-01,  2.7443e-01, -1.4108e-01,  8.2717e-01, -5.1326e-01,\n",
       "           3.8832e-01,  1.5250e-01, -1.0016e+00,  1.3946e-01, -5.5901e-01,\n",
       "          -8.2931e-02,  3.9538e-01,  7.8915e-01,  2.1713e-02,  1.5551e-01,\n",
       "           1.9827e-01, -1.2949e+00, -1.8714e-01, -1.0583e-01, -1.6679e-01,\n",
       "          -5.2788e-01,  5.6020e-01, -1.7306e-02, -6.0081e-01,  8.2653e-03,\n",
       "           6.1987e-01, -9.3592e-02, -1.7699e-01,  2.0620e-01,  4.0678e-01,\n",
       "           6.8285e-01,  5.1307e-01,  1.3719e-01, -4.5719e-01,  8.5866e-01,\n",
       "          -7.2628e-02,  2.3635e-01, -3.2748e-01, -6.1468e-01, -8.2872e-01,\n",
       "          -1.2758e-03, -4.2877e-02,  2.8626e-02,  2.2206e-01,  1.4622e-01,\n",
       "          -6.6730e-02, -2.2809e-01, -5.0346e-01, -1.7436e-02,  4.5487e-03,\n",
       "          -5.1202e-01, -6.4358e-01,  2.0330e-01,  5.0484e-02,  7.9350e-01,\n",
       "           8.1642e-01, -3.8930e-01,  5.3739e-01,  7.5729e-01, -4.5483e-01,\n",
       "           3.2708e-01,  3.8504e-01,  5.3520e-01,  1.5965e-01, -5.3587e-01,\n",
       "           7.3038e-01,  5.1653e-01,  5.3162e-02,  4.7194e-01,  3.0946e-01,\n",
       "          -7.4927e-01, -2.5008e-02,  6.8391e-01, -1.6974e-01, -1.9378e-02,\n",
       "          -2.8531e-01,  2.3588e-01,  4.8341e-02, -2.2496e-01, -1.7259e-01,\n",
       "           2.6151e-01,  2.4662e-01, -1.0493e-01],\n",
       "         [ 9.8099e-02, -3.7655e-01, -5.8589e-01, -1.8085e-01,  6.0323e-01,\n",
       "           8.9589e-02,  4.0822e-01, -6.0735e-01,  2.3155e-01,  4.6288e-01,\n",
       "          -1.1879e-01,  6.9962e-01,  1.7228e-01,  7.4353e-01,  3.6066e-01,\n",
       "           5.2477e-01,  1.0711e-01,  1.6338e-01,  1.2643e-01,  7.3651e-01,\n",
       "          -4.6009e-01,  2.1439e-01,  1.9411e-02,  1.1061e+00, -2.2934e-01,\n",
       "          -2.3182e-01, -2.1070e-01,  2.2151e-01,  5.1450e-01, -7.3968e-01,\n",
       "           6.6541e-01, -6.5398e-01, -3.4975e-01,  1.2969e-01, -3.6349e-01,\n",
       "           7.6187e-01,  1.2302e-01,  1.5725e-01,  1.1983e-01, -3.2807e-01,\n",
       "          -1.9023e-01,  5.1498e-02, -9.6690e-02,  3.8315e-01,  1.4088e-01,\n",
       "           3.7690e-01, -1.4275e-01, -2.9226e-01,  3.2738e-01, -9.1922e-02,\n",
       "          -4.3435e-01,  1.7955e-01,  5.7564e-01,  1.3033e-01, -4.2595e-01,\n",
       "          -2.4495e-01,  4.7528e-01,  9.3394e-02, -3.2920e-01,  3.5500e-01,\n",
       "           7.9053e-01, -7.0843e-02,  1.6502e-01,  1.2293e-01, -8.8371e-02,\n",
       "           1.7471e-01,  1.6113e-01,  3.3001e-01,  4.3596e-01,  3.3816e-01,\n",
       "           8.7809e-01, -2.9972e-01, -2.0992e-01, -3.6239e-01,  5.5365e-01,\n",
       "           6.1976e-03,  1.6456e-01, -2.0908e-01,  2.5514e-01, -6.7535e-01,\n",
       "          -4.5974e-02,  2.2651e-02,  9.8276e-03,  5.9320e-02, -1.5004e-01,\n",
       "          -1.2145e-01,  1.2122e-02,  1.7638e-01,  2.2942e-01,  7.2901e-01,\n",
       "          -8.3996e-02,  1.4871e-01, -6.7439e-02, -1.9833e-01, -2.3135e-01,\n",
       "          -1.1878e-02,  3.6538e-01,  1.5405e-01,  3.7705e-01,  4.4130e-01,\n",
       "          -6.0047e-01, -1.9802e-02,  2.2781e-01, -2.0553e-01, -3.4742e-01,\n",
       "           3.0447e-01, -1.7946e-01,  3.7999e-02, -5.5563e-01, -2.5775e-01,\n",
       "          -1.0781e-01, -4.6307e-01,  4.6344e-02, -3.4588e-01, -2.3790e-02,\n",
       "          -5.8939e-02, -4.7395e-01, -5.7692e-01, -1.2186e-01,  9.9306e-02,\n",
       "           2.6373e-01, -8.4354e-01,  3.2851e-01, -3.1781e-01,  2.7161e-01,\n",
       "          -1.8346e-01, -5.7040e-01, -4.4687e-02, -3.8208e-01,  3.2335e-01,\n",
       "           1.3921e-01,  3.9768e-01, -3.6071e-01,  5.2637e-02,  1.1682e-01,\n",
       "          -1.2035e+00,  9.6460e-02, -2.1685e-01,  7.9158e-02,  4.7674e-02,\n",
       "           1.2636e-01, -5.7546e-01, -2.9545e-01, -5.4020e-01, -6.0121e-02,\n",
       "          -7.6677e-02,  3.7947e-02,  2.7686e-01, -3.2065e-01,  3.1753e-02,\n",
       "           2.5596e-02,  6.9364e-01,  1.4618e-01, -8.5939e-01, -3.6313e-01,\n",
       "          -1.5869e-01, -1.2335e-01,  2.9726e-01, -7.8196e-01, -2.2925e-01,\n",
       "          -8.8693e-01,  4.4827e-01,  1.5131e-01,  4.2156e-02,  1.6365e-01,\n",
       "          -9.4427e-02,  1.3431e-01, -4.6497e-01]],\n",
       "        grad_fn=<SplitWithSizesBackward>),\n",
       " tensor([[ 0.1651, -0.2275, -0.2214, -0.2437, -0.1933, -0.0532,  0.1248,  0.5186,\n",
       "          -0.3896,  0.1791,  0.6270],\n",
       "         [-0.0432, -0.3509,  0.3381, -0.6040,  0.1594,  0.0038, -0.8256, -0.1436,\n",
       "           0.6755,  0.0567, -0.2003]], grad_fn=<SplitWithSizesBackward>),\n",
       " tensor([[-0.0768, -0.3072,  1.3368, -0.3934, -0.5380,  0.6722, -0.1406],\n",
       "         [ 0.1010, -0.0684,  0.0024, -0.0083, -0.4640,  0.1351, -0.2172]],\n",
       "        grad_fn=<SplitWithSizesBackward>))"
      ]
     },
     "execution_count": 14,
     "metadata": {},
     "output_type": "execute_result"
    }
   ],
   "source": [
    "outputs"
   ]
  },
  {
   "cell_type": "code",
   "execution_count": null,
   "metadata": {},
   "outputs": [],
   "source": []
  }
 ],
 "metadata": {
  "kernelspec": {
   "display_name": "Python [conda env:idp] *",
   "language": "python",
   "name": "conda-env-idp-py"
  },
  "language_info": {
   "codemirror_mode": {
    "name": "ipython",
    "version": 3
   },
   "file_extension": ".py",
   "mimetype": "text/x-python",
   "name": "python",
   "nbconvert_exporter": "python",
   "pygments_lexer": "ipython3",
   "version": "3.7.4"
  }
 },
 "nbformat": 4,
 "nbformat_minor": 2
}
